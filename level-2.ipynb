{
  "nbformat": 4,
  "nbformat_minor": 0,
  "metadata": {
    "colab": {
      "name": "Untitled8.ipynb",
      "provenance": [],
      "authorship_tag": "ABX9TyPGXWqHHl1CwF2WjjXDVrfk",
      "include_colab_link": true
    },
    "kernelspec": {
      "name": "python3",
      "display_name": "Python 3"
    },
    "language_info": {
      "name": "python"
    }
  },
  "cells": [
    {
      "cell_type": "markdown",
      "metadata": {
        "id": "view-in-github",
        "colab_type": "text"
      },
      "source": [
        "<a href=\"https://colab.research.google.com/github/AlexanderLorin/big-data-challenge/blob/main/level-2.ipynb\" target=\"_parent\"><img src=\"https://colab.research.google.com/assets/colab-badge.svg\" alt=\"Open In Colab\"/></a>"
      ]
    },
    {
      "cell_type": "code",
      "execution_count": 2,
      "metadata": {
        "colab": {
          "base_uri": "https://localhost:8080/"
        },
        "id": "avPZuTR0mbw6",
        "outputId": "cfa8e128-17ce-4490-db27-81d3592b9a12"
      },
      "outputs": [
        {
          "output_type": "stream",
          "name": "stdout",
          "text": [
            "\r0% [Working]\r            \rHit:1 https://cloud.r-project.org/bin/linux/ubuntu bionic-cran40/ InRelease\n",
            "Ign:2 https://developer.download.nvidia.com/compute/cuda/repos/ubuntu1804/x86_64  InRelease\n",
            "Hit:3 http://ppa.launchpad.net/c2d4u.team/c2d4u4.0+/ubuntu bionic InRelease\n",
            "Hit:4 http://security.ubuntu.com/ubuntu bionic-security InRelease\n",
            "Hit:5 http://archive.ubuntu.com/ubuntu bionic InRelease\n",
            "Ign:6 https://developer.download.nvidia.com/compute/machine-learning/repos/ubuntu1804/x86_64  InRelease\n",
            "Hit:7 https://developer.download.nvidia.com/compute/cuda/repos/ubuntu1804/x86_64  Release\n",
            "Hit:8 https://developer.download.nvidia.com/compute/machine-learning/repos/ubuntu1804/x86_64  Release\n",
            "Hit:9 http://archive.ubuntu.com/ubuntu bionic-updates InRelease\n",
            "Hit:10 http://ppa.launchpad.net/cran/libgit2/ubuntu bionic InRelease\n",
            "Hit:11 http://archive.ubuntu.com/ubuntu bionic-backports InRelease\n",
            "Hit:12 http://ppa.launchpad.net/deadsnakes/ppa/ubuntu bionic InRelease\n",
            "Hit:13 http://ppa.launchpad.net/graphics-drivers/ppa/ubuntu bionic InRelease\n",
            "Reading package lists... Done\n"
          ]
        }
      ],
      "source": [
        "import os\n",
        "# Find the latest version of spark 3.0  from http://www.apache.org/dist/spark/ and enter as the spark version\n",
        "# For example:\n",
        "spark_version = 'spark-3.0.3'\n",
        "# spark_version = 'spark-3.<enter version>'\n",
        "os.environ['SPARK_VERSION']=spark_version\n",
        "\n",
        "# Install Spark and Java\n",
        "!apt-get update\n",
        "!apt-get install openjdk-8-jdk-headless -qq > /dev/null\n",
        "!wget -q http://www.apache.org/dist/spark/$SPARK_VERSION/$SPARK_VERSION-bin-hadoop2.7.tgz\n",
        "!tar xf $SPARK_VERSION-bin-hadoop2.7.tgz\n",
        "!pip install -q findspark\n",
        "\n",
        "# Set Environment Variables\n",
        "os.environ[\"JAVA_HOME\"] = \"/usr/lib/jvm/java-8-openjdk-amd64\"\n",
        "os.environ[\"SPARK_HOME\"] = f\"/content/{spark_version}-bin-hadoop2.7\"\n",
        "\n",
        "# Start a SparkSession\n",
        "import findspark\n",
        "findspark.init()"
      ]
    },
    {
      "cell_type": "code",
      "source": [
        "from pyspark.sql import SparkSession\n",
        "spark = SparkSession.builder.appName(\"BigData-HW-2\").getOrCreate()"
      ],
      "metadata": {
        "id": "_6vMrg9Zmdtz"
      },
      "execution_count": 3,
      "outputs": []
    },
    {
      "cell_type": "code",
      "source": [
        "from pyspark import SparkFiles\n",
        "url = \"https://s3.amazonaws.com/amazon-reviews-pds/tsv/amazon_reviews_us_Video_Games_v1_00.tsv.gz\"\n",
        "spark.sparkContext.addFile(url)\n",
        "video_games_df = spark.read.csv(SparkFiles.get(\"amazon_reviews_us_Video_Games_v1_00.tsv.gz\"), sep=\"\\t\", header=True)\n",
        "video_games_df.show()"
      ],
      "metadata": {
        "colab": {
          "base_uri": "https://localhost:8080/"
        },
        "id": "Jw6hZNcvm1Ml",
        "outputId": "2656c59a-1c91-4cc8-a7aa-02f02f0c1154"
      },
      "execution_count": 5,
      "outputs": [
        {
          "output_type": "stream",
          "name": "stdout",
          "text": [
            "+-----------+-----------+--------------+----------+--------------+--------------------+----------------+-----------+-------------+-----------+----+-----------------+--------------------+--------------------+-----------+\n",
            "|marketplace|customer_id|     review_id|product_id|product_parent|       product_title|product_category|star_rating|helpful_votes|total_votes|vine|verified_purchase|     review_headline|         review_body|review_date|\n",
            "+-----------+-----------+--------------+----------+--------------+--------------------+----------------+-----------+-------------+-----------+----+-----------------+--------------------+--------------------+-----------+\n",
            "|         US|   12039526| RTIS3L2M1F5SM|B001CXYMFS|     737716809|Thrustmaster T-Fl...|     Video Games|          5|            0|          0|   N|                Y|an amazing joysti...|Used this for Eli...| 2015-08-31|\n",
            "|         US|    9636577| R1ZV7R40OLHKD|B00M920ND6|     569686175|Tonsee 6 buttons ...|     Video Games|          5|            0|          0|   N|                Y|Definitely a sile...|Loved it,  I didn...| 2015-08-31|\n",
            "|         US|    2331478|R3BH071QLH8QMC|B0029CSOD2|      98937668|Hidden Mysteries:...|     Video Games|          1|            0|          1|   N|                Y|            One Star|poor quality work...| 2015-08-31|\n",
            "|         US|   52495923|R127K9NTSXA2YH|B00GOOSV98|      23143350|GelTabz Performan...|     Video Games|          3|            0|          0|   N|                Y|good, but could b...|nice, but tend to...| 2015-08-31|\n",
            "|         US|   14533949|R32ZWUXDJPW27Q|B00Y074JOM|     821342511|Zero Suit Samus a...|     Video Games|          4|            0|          0|   N|                Y|   Great but flawed.|Great amiibo, gre...| 2015-08-31|\n",
            "|         US|    2377552|R3AQQ4YUKJWBA6|B002UBI6W6|     328764615|Psyclone Recharge...|     Video Games|          1|            0|          0|   N|                Y|            One Star|The remote consta...| 2015-08-31|\n",
            "|         US|   17521011|R2F0POU5K6F73F|B008XHCLFO|      24234603|Protection for yo...|     Video Games|          5|            0|          0|   N|                Y|              A Must|I have a 2012-201...| 2015-08-31|\n",
            "|         US|   19676307|R3VNR804HYSMR6|B00BRA9R6A|     682267517|   Nerf 3DS XL Armor|     Video Games|          5|            0|          0|   N|                Y|          Five Stars|Perfect, kids lov...| 2015-08-31|\n",
            "|         US|     224068| R3GZTM72WA2QH|B009EPWJLA|     435241890|One Piece: Pirate...|     Video Games|          5|            0|          0|   N|                Y|          Five Stars|            Excelent| 2015-08-31|\n",
            "|         US|   48467989| RNQOY62705W1K|B0000AV7GB|     256572651|Playstation 2 Dan...|     Video Games|          4|            0|          0|   N|                Y|          Four Stars|Slippery but expe...| 2015-08-31|\n",
            "|         US|     106569|R1VTIA3JTYBY02|B00008KTNN|     384411423|Metal Arms: Glitc...|     Video Games|          5|            0|          0|   N|                N|          Five Stars|Love the game. Se...| 2015-08-31|\n",
            "|         US|   48269642|R29DOU8791QZL8|B000A3IA0Y|     472622859|72 Pin Connector ...|     Video Games|          1|            0|          0|   N|                Y| Game will get stuck|Does not fit prop...| 2015-08-31|\n",
            "|         US|   52738710|R15DUT1VIJ9RJZ|B0053BQN34|     577628462|uDraw Gametablet ...|     Video Games|          2|            0|          0|   N|                Y|We have tried it ...|This was way too ...| 2015-08-31|\n",
            "|         US|   10556786|R3IMF2MQ3OU9ZM|B002I0HIMI|     988218515|NBA 2K12(Covers M...|     Video Games|          4|            0|          0|   N|                Y|          Four Stars|Works great good ...| 2015-08-31|\n",
            "|         US|    2963837|R23H79DHOZTYAU|B0081EH12M|     770100932|New Trigger Grips...|     Video Games|          1|            1|          1|   N|                Y|Now i have to buy...|It did not fit th...| 2015-08-31|\n",
            "|         US|   23092109| RIV24EQAIXA4O|B005FMLZQQ|      24647669|Xbox 360 Media Re...|     Video Games|          5|            0|          0|   N|                Y|          Five Stars|perfect lightweig...| 2015-08-31|\n",
            "|         US|   23091728|R3UCNGYDVN24YB|B002BSA388|      33706205|Super Mario Galaxy 2|     Video Games|          5|            0|          0|   N|                Y|          Five Stars|               great| 2015-08-31|\n",
            "|         US|   10712640| RUL4H4XTTN2DY|B00BUSLSAC|     829667834|Nintendo 3DS XL -...|     Video Games|          5|            0|          0|   N|                Y|          Five Stars|Works beautifully...| 2015-08-31|\n",
            "|         US|   17455376|R20JF7Z4DHTNX5|B00KWF38AW|     110680188|Captain Toad:  Tr...|     Video Games|          5|            0|          0|   N|                Y|          Five Stars|Kids loved the ga...| 2015-08-31|\n",
            "|         US|   14754850|R2T1AJ5MFI2260|B00BRQJYA8|     616463426|Lego Batman 2: DC...|     Video Games|          4|            0|          0|   N|                Y|          Four Stars|           Goodngame| 2015-08-31|\n",
            "+-----------+-----------+--------------+----------+--------------+--------------------+----------------+-----------+-------------+-----------+----+-----------------+--------------------+--------------------+-----------+\n",
            "only showing top 20 rows\n",
            "\n"
          ]
        }
      ]
    },
    {
      "cell_type": "code",
      "source": [
        "filtered_video_games_df = video_games_df.select([\"star_rating\", \"helpful_votes\", \"total_votes\", \"vine\", \"verified_purchase\"])\n",
        "filtered_video_games_df.show(10)"
      ],
      "metadata": {
        "colab": {
          "base_uri": "https://localhost:8080/"
        },
        "id": "yauUvKxEm4KS",
        "outputId": "06f359ca-8a22-4a49-b398-f45fd1f2ce45"
      },
      "execution_count": 6,
      "outputs": [
        {
          "output_type": "stream",
          "name": "stdout",
          "text": [
            "+-----------+-------------+-----------+----+-----------------+\n",
            "|star_rating|helpful_votes|total_votes|vine|verified_purchase|\n",
            "+-----------+-------------+-----------+----+-----------------+\n",
            "|          5|            0|          0|   N|                Y|\n",
            "|          5|            0|          0|   N|                Y|\n",
            "|          1|            0|          1|   N|                Y|\n",
            "|          3|            0|          0|   N|                Y|\n",
            "|          4|            0|          0|   N|                Y|\n",
            "|          1|            0|          0|   N|                Y|\n",
            "|          5|            0|          0|   N|                Y|\n",
            "|          5|            0|          0|   N|                Y|\n",
            "|          5|            0|          0|   N|                Y|\n",
            "|          4|            0|          0|   N|                Y|\n",
            "+-----------+-------------+-----------+----+-----------------+\n",
            "only showing top 10 rows\n",
            "\n"
          ]
        }
      ]
    },
    {
      "cell_type": "code",
      "source": [
        "# Filter for greater than 20 total votes\n",
        "total_votes_df = filtered_video_games_df.filter(filtered_video_games_df[\"total_votes\"] >= 20)\n",
        "total_votes_df.show(10)"
      ],
      "metadata": {
        "colab": {
          "base_uri": "https://localhost:8080/"
        },
        "id": "5iIf4Z6pm7ki",
        "outputId": "bcab14c3-d0fa-4090-ff26-3332d8ed286d"
      },
      "execution_count": 7,
      "outputs": [
        {
          "output_type": "stream",
          "name": "stdout",
          "text": [
            "+-----------+-------------+-----------+----+-----------------+\n",
            "|star_rating|helpful_votes|total_votes|vine|verified_purchase|\n",
            "+-----------+-------------+-----------+----+-----------------+\n",
            "|          1|           21|         34|   N|                N|\n",
            "|          1|           21|         35|   N|                Y|\n",
            "|          1|          147|        175|   N|                Y|\n",
            "|          1|           14|         31|   N|                Y|\n",
            "|          2|           55|         60|   N|                N|\n",
            "|          1|           51|         65|   N|                Y|\n",
            "|          4|           31|         36|   N|                N|\n",
            "|          2|           19|         34|   N|                Y|\n",
            "|          5|           28|         31|   N|                N|\n",
            "|          1|            4|         32|   N|                N|\n",
            "+-----------+-------------+-----------+----+-----------------+\n",
            "only showing top 10 rows\n",
            "\n"
          ]
        }
      ]
    },
    {
      "cell_type": "code",
      "source": [
        "# Filter for greater than 50% helpful vote percentage\n",
        "helpful_votes_df = total_votes_df.filter(total_votes_df[\"helpful_votes\"]/total_votes_df[\"total_votes\"] >= 0.5)\n",
        "helpful_votes_df.show(10)"
      ],
      "metadata": {
        "colab": {
          "base_uri": "https://localhost:8080/"
        },
        "id": "0UzSLE5Wm-RQ",
        "outputId": "6c27f960-596c-4f29-f992-351eebd12098"
      },
      "execution_count": 8,
      "outputs": [
        {
          "output_type": "stream",
          "name": "stdout",
          "text": [
            "+-----------+-------------+-----------+----+-----------------+\n",
            "|star_rating|helpful_votes|total_votes|vine|verified_purchase|\n",
            "+-----------+-------------+-----------+----+-----------------+\n",
            "|          1|           21|         34|   N|                N|\n",
            "|          1|           21|         35|   N|                Y|\n",
            "|          1|          147|        175|   N|                Y|\n",
            "|          2|           55|         60|   N|                N|\n",
            "|          1|           51|         65|   N|                Y|\n",
            "|          4|           31|         36|   N|                N|\n",
            "|          2|           19|         34|   N|                Y|\n",
            "|          5|           28|         31|   N|                N|\n",
            "|          2|          151|        198|   N|                N|\n",
            "|          1|           49|         51|   N|                Y|\n",
            "+-----------+-------------+-----------+----+-----------------+\n",
            "only showing top 10 rows\n",
            "\n"
          ]
        }
      ]
    },
    {
      "cell_type": "code",
      "source": [
        "# Paid reviews\n",
        "paid_df = helpful_votes_df.filter(helpful_votes_df['vine']== 'Y')\n",
        "paid_df.describe().show(10)"
      ],
      "metadata": {
        "colab": {
          "base_uri": "https://localhost:8080/"
        },
        "id": "BhPzmnzKm-1y",
        "outputId": "e0cbfd8c-0518-4195-86f8-c77d6c8d81da"
      },
      "execution_count": 9,
      "outputs": [
        {
          "output_type": "stream",
          "name": "stdout",
          "text": [
            "+-------+------------------+-----------------+------------------+----+-----------------+\n",
            "|summary|       star_rating|    helpful_votes|       total_votes|vine|verified_purchase|\n",
            "+-------+------------------+-----------------+------------------+----+-----------------+\n",
            "|  count|                94|               94|                94|  94|               94|\n",
            "|   mean| 4.202127659574468|54.59574468085106|61.787234042553195|null|             null|\n",
            "| stddev|0.9791348741656414|65.26098459822538| 68.90976994895392|null|             null|\n",
            "|    min|                 1|              111|               102|   Y|                N|\n",
            "|    max|                 5|               97|                88|   Y|                N|\n",
            "+-------+------------------+-----------------+------------------+----+-----------------+\n",
            "\n"
          ]
        }
      ]
    },
    {
      "cell_type": "code",
      "source": [
        "# Unpaid reviews\n",
        "unpaid_df = helpful_votes_df.filter(helpful_votes_df['vine']== 'N')\n",
        "unpaid_df.describe().show()"
      ],
      "metadata": {
        "colab": {
          "base_uri": "https://localhost:8080/"
        },
        "id": "cX-anzU2nAWe",
        "outputId": "6f4d5841-5df8-40aa-9bfc-591c7eb9c00f"
      },
      "execution_count": 10,
      "outputs": [
        {
          "output_type": "stream",
          "name": "stdout",
          "text": [
            "+-------+------------------+------------------+------------------+-----+-----------------+\n",
            "|summary|       star_rating|     helpful_votes|       total_votes| vine|verified_purchase|\n",
            "+-------+------------------+------------------+------------------+-----+-----------------+\n",
            "|  count|             40471|             40471|             40471|40471|            40471|\n",
            "|   mean|  3.34765634651973|47.428405524943784|55.891057794470115| null|             null|\n",
            "| stddev|1.6418850112078023|117.53763370687005|127.40280622961905| null|             null|\n",
            "|    min|                 1|                10|               100|    N|                N|\n",
            "|    max|                 5|               999|               999|    N|                Y|\n",
            "+-------+------------------+------------------+------------------+-----+-----------------+\n",
            "\n"
          ]
        }
      ]
    },
    {
      "cell_type": "code",
      "source": [
        "paid_five_star_number = paid_df[paid_df['star_rating']== 5].count()\n",
        "paid_number = paid_df.count()\n",
        "percentage_five_star_vine = round(float(paid_five_star_number) / float(paid_number),4)\n",
        "print(f'Number of paid reviews {paid_number}')\n",
        "print(f'Number of paid five star reviews {paid_five_star_number}')\n",
        "print(f'Percantage of paid reviews that are five stars {percentage_five_star_vine * 100}%')"
      ],
      "metadata": {
        "colab": {
          "base_uri": "https://localhost:8080/"
        },
        "id": "warr9wj1nBrl",
        "outputId": "181598cc-0e2a-40f9-9d4e-91825b95b5fa"
      },
      "execution_count": 11,
      "outputs": [
        {
          "output_type": "stream",
          "name": "stdout",
          "text": [
            "Number of paid reviews 94\n",
            "Number of paid five star reviews 48\n",
            "Percantage of paid reviews that are five stars 51.06%\n"
          ]
        }
      ]
    },
    {
      "cell_type": "code",
      "source": [
        "unpaid_five_star_number = unpaid_df[unpaid_df['star_rating']== 5].count()\n",
        "unpaid_number = unpaid_df.count()\n",
        "percentage_five_star_non_vine = round(float(unpaid_five_star_number) / float(unpaid_number),4)\n",
        "print(f'Number of unpaid reviews {unpaid_number}')\n",
        "print(f'Number of unpaid five star reviews {unpaid_five_star_number}')\n",
        "print(f'Percantage of paid reviews that are five stars {percentage_five_star_non_vine * 100}%')"
      ],
      "metadata": {
        "colab": {
          "base_uri": "https://localhost:8080/"
        },
        "id": "RMqtui_QnDAm",
        "outputId": "81a87a70-f0b4-41ad-af0d-370d16fbc216"
      },
      "execution_count": 13,
      "outputs": [
        {
          "output_type": "stream",
          "name": "stdout",
          "text": [
            "Number of unpaid reviews 40471\n",
            "Number of unpaid five star reviews 15663\n",
            "Percantage of paid reviews that are five stars 38.7%\n"
          ]
        }
      ]
    },
    {
      "cell_type": "code",
      "source": [
        ""
      ],
      "metadata": {
        "id": "J6YqM2fPnEkb"
      },
      "execution_count": null,
      "outputs": []
    }
  ]
}